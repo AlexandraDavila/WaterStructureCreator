{
 "cells": [
  {
   "cell_type": "code",
   "execution_count": 12,
   "metadata": {},
   "outputs": [],
   "source": [
    "from ase.visualize import view\n",
    "import numpy as np\n",
    "\n",
    "from pymatgen.io.ase import AseAtomsAdaptor\n",
    "\n",
    "from waterstructureCreator.load_dictionaries import import_slab_structures, import_bulk_structures\n",
    "from waterstructureCreator.construct_supercells import get_independent_Supercell_Matrices\n",
    "from waterstructureCreator.check_polarity import get_structure_polarity\n",
    "from waterstructureCreator.create_slabs import get_export_subslabs_clean, get_bulk_and_slab\n",
    "from waterstructureCreator.create_combined_slab import get_export_adsorbed_water_SS, get_isotropic_SS\n",
    "from get_adsorbed_water_split import *"
   ]
  },
  {
   "cell_type": "markdown",
   "metadata": {},
   "source": [
    "# Example: Static water structures"
   ]
  },
  {
   "cell_type": "markdown",
   "metadata": {},
   "source": [
    "#### Creation of supercell scaling matrices\n",
    "While pymatgen internally allows to scan through various surface terminations and supercells, it makes more sense in the present case to fix a priori a certain supercell geometry for any (hkl) surface. Here the requirement is not that we get perfect fit with water structures but we rather want to use for a given (hkl) surface the most isotropic one, as this allows a maximum distance between periodic images and is thus the most sensible approach to choose supercell geometries, that are then only at a later stage evaluated w.r.t. to fitting 2D water supercells."
   ]
  },
  {
   "cell_type": "code",
   "execution_count": 11,
   "metadata": {},
   "outputs": [
    {
     "name": "stdout",
     "output_type": "stream",
     "text": [
      "10000  supercell matrices created\n",
      "20000  supercell matrices created\n"
     ]
    }
   ],
   "source": [
    "# In this example we calculate the transformation \n",
    "# matrices for 12 atoms per layer.\n",
    "Natoms_perlayer = 12\n",
    "SuperCellSizes = [Natoms_perlayer, Natoms_perlayer]\n",
    "allredm = get_independent_Supercell_Matrices(SuperCellSizes)"
   ]
  },
  {
   "cell_type": "code",
   "execution_count": 34,
   "metadata": {},
   "outputs": [
    {
     "name": "stdout",
     "output_type": "stream",
     "text": [
      "For 12 atoms per layer, we found  26 independent matrices\n"
     ]
    }
   ],
   "source": [
    "for i in allredm.keys():\n",
    "    print('For',i, 'atoms per layer, we found ',len(allredm[i]['independent']),'independent matrices')"
   ]
  },
  {
   "cell_type": "markdown",
   "metadata": {},
   "source": [
    "# Water films\n",
    "Here we import the water structures, which were previously calculated by means of DFT.\n",
    "For each polymorph, 20 structures have been computed. "
   ]
  },
  {
   "cell_type": "code",
   "execution_count": 4,
   "metadata": {},
   "outputs": [
    {
     "name": "stdout",
     "output_type": "stream",
     "text": [
      "Water phases: dict_keys(['p4b2o3', 'p3b1o3', 'p5b4o1', 'p2b3o3', 'p5b2o4', 'p3b4o2', 'p3b2o3', 'p3b4o1'])\n",
      "=++++++++++++++++++++++++++++++++=\n",
      "Each water phase then has 20 different possible low energy lattice constants.\n",
      "These are\n",
      "cell lengths:  [3.872 7.441]\n",
      "cell lengths:  [4.259 5.082]\n",
      "cell lengths:  [4.259 5.59 ]\n",
      "cell lengths:  [4.259 6.149]\n",
      "cell lengths:  [4.259 6.764]\n",
      "cell lengths:  [4.259 7.441]\n",
      "cell lengths:  [4.259 8.185]\n",
      "cell lengths:  [4.259 9.003]\n",
      "cell lengths:  [4.685 5.082]\n",
      "cell lengths:  [4.685 5.59 ]\n",
      "cell lengths:  [4.685 6.149]\n",
      "cell lengths:  [4.685 6.764]\n",
      "cell lengths:  [4.685 7.441]\n",
      "cell lengths:  [4.685 8.185]\n",
      "cell lengths:  [4.685 9.003]\n",
      "cell lengths:  [5.154 5.59 ]\n",
      "cell lengths:  [5.154 6.149]\n",
      "cell lengths:  [5.154 6.764]\n",
      "cell lengths:  [5.154 7.441]\n",
      "cell lengths:  [5.154 8.185]\n"
     ]
    }
   ],
   "source": [
    "films = import_slab_structures(filename=\"metalbulk_waterfilms/h2o_export.json\")\n",
    "print(\"Water phases:\", films.keys())\n",
    "print(\"=++++++++++++++++++++++++++++++++=\")\n",
    "\n",
    "print(\"Each water phase then has {} different possible low energy lattice constants.\".format(len(films['p3b4o1'])) )\n",
    "print(\"These are\")\n",
    "for l in films['p3b4o1']:\n",
    "    print(\"cell lengths: \", np.round(l[0][0],3))"
   ]
  },
  {
   "cell_type": "markdown",
   "metadata": {},
   "source": [
    "# Create interface Structures"
   ]
  },
  {
   "cell_type": "code",
   "execution_count": 32,
   "metadata": {},
   "outputs": [
    {
     "name": "stdout",
     "output_type": "stream",
     "text": [
      "Materials: dict_keys(['Pd', 'Cu', 'Au', 'Pt', 'Ag'])\n",
      "=++++++++++++++++++++++++++++++++=\n"
     ]
    }
   ],
   "source": [
    "# Read bulk structures, which were calculated \n",
    "# previously by means of DFT.\n",
    "bulk_structs = import_bulk_structures(filename=\"metalbulk_waterfilms/bulk_export.json\")\n",
    "print(\"Materials:\", bulk_structs.keys())\n",
    "print(\"=++++++++++++++++++++++++++++++++=\")"
   ]
  },
  {
   "cell_type": "code",
   "execution_count": 31,
   "metadata": {},
   "outputs": [],
   "source": [
    "# Miller index and number of layers for surfaces.\n",
    "interface_specs = [[[1,0,0], \"(100)\", 3], \\\n",
    "                   [[1,1,0] ,\"(110)\", 4],  \\\n",
    "                   [[1,1,1], \"(111)\", 6]]"
   ]
  },
  {
   "cell_type": "code",
   "execution_count": 21,
   "metadata": {},
   "outputs": [
    {
     "name": "stdout",
     "output_type": "stream",
     "text": [
      "THIS VALUE SHOULD BE 1 ALWAYS 1.0000000000000004\n"
     ]
    }
   ],
   "source": [
    "# Create a slab with selected miller indices.\n",
    "# In this example, we calculate the primitive \n",
    "# slab for the Pt(111) surface.  \n",
    "oriented_primitive_bulk_o, primitive_slab = get_bulk_and_slab(bulk_structs['Pt'],\n",
    "                                                              miller=interface_specs[2][0],\n",
    "                                                              layers=interface_specs[2][2],\n",
    "                                                              vacuum=17.)\n",
    "\n",
    "# Visualize\n",
    "view(AseAtomsAdaptor.get_atoms(primitive_slab))"
   ]
  },
  {
   "cell_type": "code",
   "execution_count": 33,
   "metadata": {},
   "outputs": [],
   "source": [
    "# Find the isotropic supercell.\n",
    "best, allresults_sorted  = get_isotropic_SS(primitive_slab, allredm, Natoms_perlayer)\n",
    "trans_matrix = allresults_sorted[0][-1]\n",
    "# Create the isotropic supercell \n",
    "# from the transformation matrix.\n",
    "isotropic_cell = create_slab_from_matrix(trans_matrix,primitive_slab)\n",
    "# Visualize\n",
    "view(AseAtomsAdaptor.get_atoms(isotropic_cell[1]))"
   ]
  },
  {
   "cell_type": "code",
   "execution_count": 18,
   "metadata": {},
   "outputs": [],
   "source": [
    "# Settings for placing the water adlayer\n",
    "limitxylen = 36. # limit on any cell length in Angstrom, in order to ignore directly all very assymmetric cells\n",
    "horizontaldist = 2. # the distance with which we scan the different lateral arrangements in the unitcell\n",
    "waterdistance = 2.3 # The distance to the surface where we want to place the waters"
   ]
  },
  {
   "cell_type": "code",
   "execution_count": 20,
   "metadata": {},
   "outputs": [],
   "source": [
    "# Results are shown in a pandas DataFrame.\n",
    "# Pymatgen structures can be exported.\n",
    "df = wateronsurface(films,isotropic_cell,horizontaldist,waterdistance,limitxylen)"
   ]
  },
  {
   "cell_type": "code",
   "execution_count": 29,
   "metadata": {},
   "outputs": [
    {
     "data": {
      "text/html": [
       "<div>\n",
       "<style scoped>\n",
       "    .dataframe tbody tr th:only-of-type {\n",
       "        vertical-align: middle;\n",
       "    }\n",
       "\n",
       "    .dataframe tbody tr th {\n",
       "        vertical-align: top;\n",
       "    }\n",
       "\n",
       "    .dataframe thead th {\n",
       "        text-align: right;\n",
       "    }\n",
       "</style>\n",
       "<table border=\"1\" class=\"dataframe\">\n",
       "  <thead>\n",
       "    <tr style=\"text-align: right;\">\n",
       "      <th></th>\n",
       "      <th>metal</th>\n",
       "      <th>polymorph</th>\n",
       "      <th>polarity</th>\n",
       "      <th>water_lattice</th>\n",
       "      <th>number</th>\n",
       "      <th>H2O</th>\n",
       "      <th>struct</th>\n",
       "    </tr>\n",
       "  </thead>\n",
       "  <tbody>\n",
       "    <tr>\n",
       "      <th>4</th>\n",
       "      <td>Pt</td>\n",
       "      <td>p4b2o3</td>\n",
       "      <td>False</td>\n",
       "      <td>[4.68512, 8.18461182]</td>\n",
       "      <td>1</td>\n",
       "      <td>8.0</td>\n",
       "      <td>[[2.80274925 1.61816803 5.72962926] Pt, [ 5.60...</td>\n",
       "    </tr>\n",
       "    <tr>\n",
       "      <th>5</th>\n",
       "      <td>Pt</td>\n",
       "      <td>p4b2o3</td>\n",
       "      <td>False</td>\n",
       "      <td>[4.68512, 8.18461182]</td>\n",
       "      <td>2</td>\n",
       "      <td>8.0</td>\n",
       "      <td>[[2.80274925 1.61816803 5.72962926] Pt, [ 5.60...</td>\n",
       "    </tr>\n",
       "    <tr>\n",
       "      <th>6</th>\n",
       "      <td>Pt</td>\n",
       "      <td>p4b2o3</td>\n",
       "      <td>False</td>\n",
       "      <td>[4.68512, 8.18461182]</td>\n",
       "      <td>3</td>\n",
       "      <td>8.0</td>\n",
       "      <td>[[2.80274925 1.61816803 5.72962926] Pt, [ 5.60...</td>\n",
       "    </tr>\n",
       "    <tr>\n",
       "      <th>7</th>\n",
       "      <td>Pt</td>\n",
       "      <td>p4b2o3</td>\n",
       "      <td>False</td>\n",
       "      <td>[4.68512, 8.18461182]</td>\n",
       "      <td>4</td>\n",
       "      <td>8.0</td>\n",
       "      <td>[[2.80274925 1.61816803 5.72962926] Pt, [ 5.60...</td>\n",
       "    </tr>\n",
       "    <tr>\n",
       "      <th>8</th>\n",
       "      <td>Pt</td>\n",
       "      <td>p4b2o3</td>\n",
       "      <td>False</td>\n",
       "      <td>[4.68512, 9.003073002]</td>\n",
       "      <td>1</td>\n",
       "      <td>8.0</td>\n",
       "      <td>[[2.80274925 1.61816803 5.74599993] Pt, [ 5.60...</td>\n",
       "    </tr>\n",
       "    <tr>\n",
       "      <th>...</th>\n",
       "      <td>...</td>\n",
       "      <td>...</td>\n",
       "      <td>...</td>\n",
       "      <td>...</td>\n",
       "      <td>...</td>\n",
       "      <td>...</td>\n",
       "      <td>...</td>\n",
       "    </tr>\n",
       "    <tr>\n",
       "      <th>115</th>\n",
       "      <td>Pt</td>\n",
       "      <td>p3b4o1</td>\n",
       "      <td>False</td>\n",
       "      <td>[4.68512, 8.18461182]</td>\n",
       "      <td>4</td>\n",
       "      <td>8.0</td>\n",
       "      <td>[[2.80274925 1.61816803 6.21059393] Pt, [ 5.60...</td>\n",
       "    </tr>\n",
       "    <tr>\n",
       "      <th>116</th>\n",
       "      <td>Pt</td>\n",
       "      <td>p3b4o1</td>\n",
       "      <td>False</td>\n",
       "      <td>[4.68512, 9.003073002]</td>\n",
       "      <td>1</td>\n",
       "      <td>8.0</td>\n",
       "      <td>[[2.80274925 1.61816803 6.21011393] Pt, [ 5.60...</td>\n",
       "    </tr>\n",
       "    <tr>\n",
       "      <th>117</th>\n",
       "      <td>Pt</td>\n",
       "      <td>p3b4o1</td>\n",
       "      <td>False</td>\n",
       "      <td>[4.68512, 9.003073002]</td>\n",
       "      <td>2</td>\n",
       "      <td>8.0</td>\n",
       "      <td>[[2.80274925 1.61816803 6.21011393] Pt, [ 5.60...</td>\n",
       "    </tr>\n",
       "    <tr>\n",
       "      <th>118</th>\n",
       "      <td>Pt</td>\n",
       "      <td>p3b4o1</td>\n",
       "      <td>False</td>\n",
       "      <td>[4.68512, 9.003073002]</td>\n",
       "      <td>3</td>\n",
       "      <td>8.0</td>\n",
       "      <td>[[2.80274925 1.61816803 6.21011393] Pt, [ 5.60...</td>\n",
       "    </tr>\n",
       "    <tr>\n",
       "      <th>119</th>\n",
       "      <td>Pt</td>\n",
       "      <td>p3b4o1</td>\n",
       "      <td>False</td>\n",
       "      <td>[4.68512, 9.003073002]</td>\n",
       "      <td>4</td>\n",
       "      <td>8.0</td>\n",
       "      <td>[[2.80274925 1.61816803 6.21011393] Pt, [ 5.60...</td>\n",
       "    </tr>\n",
       "  </tbody>\n",
       "</table>\n",
       "<p>80 rows × 7 columns</p>\n",
       "</div>"
      ],
      "text/plain": [
       "    metal polymorph polarity           water_lattice number  H2O  \\\n",
       "4      Pt    p4b2o3    False   [4.68512, 8.18461182]      1  8.0   \n",
       "5      Pt    p4b2o3    False   [4.68512, 8.18461182]      2  8.0   \n",
       "6      Pt    p4b2o3    False   [4.68512, 8.18461182]      3  8.0   \n",
       "7      Pt    p4b2o3    False   [4.68512, 8.18461182]      4  8.0   \n",
       "8      Pt    p4b2o3    False  [4.68512, 9.003073002]      1  8.0   \n",
       "..    ...       ...      ...                     ...    ...  ...   \n",
       "115    Pt    p3b4o1    False   [4.68512, 8.18461182]      4  8.0   \n",
       "116    Pt    p3b4o1    False  [4.68512, 9.003073002]      1  8.0   \n",
       "117    Pt    p3b4o1    False  [4.68512, 9.003073002]      2  8.0   \n",
       "118    Pt    p3b4o1    False  [4.68512, 9.003073002]      3  8.0   \n",
       "119    Pt    p3b4o1    False  [4.68512, 9.003073002]      4  8.0   \n",
       "\n",
       "                                                struct  \n",
       "4    [[2.80274925 1.61816803 5.72962926] Pt, [ 5.60...  \n",
       "5    [[2.80274925 1.61816803 5.72962926] Pt, [ 5.60...  \n",
       "6    [[2.80274925 1.61816803 5.72962926] Pt, [ 5.60...  \n",
       "7    [[2.80274925 1.61816803 5.72962926] Pt, [ 5.60...  \n",
       "8    [[2.80274925 1.61816803 5.74599993] Pt, [ 5.60...  \n",
       "..                                                 ...  \n",
       "115  [[2.80274925 1.61816803 6.21059393] Pt, [ 5.60...  \n",
       "116  [[2.80274925 1.61816803 6.21011393] Pt, [ 5.60...  \n",
       "117  [[2.80274925 1.61816803 6.21011393] Pt, [ 5.60...  \n",
       "118  [[2.80274925 1.61816803 6.21011393] Pt, [ 5.60...  \n",
       "119  [[2.80274925 1.61816803 6.21011393] Pt, [ 5.60...  \n",
       "\n",
       "[80 rows x 7 columns]"
      ]
     },
     "execution_count": 29,
     "metadata": {},
     "output_type": "execute_result"
    }
   ],
   "source": [
    "df.query('H2O == 8.0')"
   ]
  },
  {
   "cell_type": "code",
   "execution_count": 30,
   "metadata": {},
   "outputs": [],
   "source": [
    "view(AseAtomsAdaptor.get_atoms(df.iloc[4].struct))"
   ]
  },
  {
   "cell_type": "code",
   "execution_count": null,
   "metadata": {},
   "outputs": [],
   "source": []
  }
 ],
 "metadata": {
  "kernelspec": {
   "display_name": "python_v3",
   "language": "python",
   "name": "python_v3"
  },
  "language_info": {
   "codemirror_mode": {
    "name": "ipython",
    "version": 3
   },
   "file_extension": ".py",
   "mimetype": "text/x-python",
   "name": "python",
   "nbconvert_exporter": "python",
   "pygments_lexer": "ipython3",
   "version": "3.8.3"
  }
 },
 "nbformat": 4,
 "nbformat_minor": 4
}
